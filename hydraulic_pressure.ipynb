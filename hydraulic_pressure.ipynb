{
  "cells": [
    {
      "cell_type": "code",
      "execution_count": null,
      "metadata": {
        "id": "KuQuavTXdIYU"
      },
      "outputs": [],
      "source": [
        "#!pip install boto3"
      ]
    },
    {
      "cell_type": "code",
      "execution_count": 3,
      "metadata": {
        "colab": {
          "base_uri": "https://localhost:8080/",
          "height": 201
        },
        "id": "PGdtRhlIdKSA",
        "outputId": "c663d507-9faf-4009-c5b3-8f192e68f43b"
      },
      "outputs": [
        {
          "name": "stdout",
          "output_type": "stream",
          "text": [
            "{'idtemp': '1', 'data': '70.6049877045701', 'type': 'hydraulicpressure', 'timestamp': '2023-10-09 23:05:22.518561'}\n",
            "{'idtemp': '2', 'data': '74.90362554084841', 'type': 'hydraulicpressure', 'timestamp': '2023-10-09 23:05:26.202170'}\n",
            "{'idtemp': '3', 'data': '74.77138767672704', 'type': 'hydraulicpressure', 'timestamp': '2023-10-09 23:05:29.307608'}\n",
            "{'idtemp': '4', 'data': '76.91435788318462', 'type': 'hydraulicpressure', 'timestamp': '2023-10-09 23:05:32.523222'}\n",
            "{'idtemp': '5', 'data': '75.44507391992309', 'type': 'hydraulicpressure', 'timestamp': '2023-10-09 23:05:35.628713'}\n",
            "{'idtemp': '6', 'data': '74.58466098019112', 'type': 'hydraulicpressure', 'timestamp': '2023-10-09 23:05:38.734761'}\n",
            "{'idtemp': '7', 'data': '73.52917003457951', 'type': 'hydraulicpressure', 'timestamp': '2023-10-09 23:05:41.839836'}\n",
            "{'idtemp': '8', 'data': '75.80893047030582', 'type': 'hydraulicpressure', 'timestamp': '2023-10-09 23:05:44.945823'}\n",
            "{'idtemp': '9', 'data': '72.17020134926315', 'type': 'hydraulicpressure', 'timestamp': '2023-10-09 23:05:48.066894'}\n",
            "{'idtemp': '10', 'data': '79.09514060959947', 'type': 'hydraulicpressure', 'timestamp': '2023-10-09 23:05:51.173216'}\n",
            "{'idtemp': '11', 'data': '73.737883897846', 'type': 'hydraulicpressure', 'timestamp': '2023-10-09 23:05:54.380035'}\n",
            "{'idtemp': '12', 'data': '71.15919348568657', 'type': 'hydraulicpressure', 'timestamp': '2023-10-09 23:05:57.489829'}\n",
            "{'idtemp': '13', 'data': '77.62377257586935', 'type': 'hydraulicpressure', 'timestamp': '2023-10-09 23:06:00.682063'}\n",
            "{'idtemp': '14', 'data': '70.28234853755335', 'type': 'hydraulicpressure', 'timestamp': '2023-10-09 23:06:03.788441'}\n",
            "{'idtemp': '15', 'data': '72.20807523479469', 'type': 'hydraulicpressure', 'timestamp': '2023-10-09 23:06:06.893802'}\n",
            "{'idtemp': '16', 'data': '78.9525418628786', 'type': 'hydraulicpressure', 'timestamp': '2023-10-09 23:06:09.999343'}\n",
            "{'idtemp': '17', 'data': '70.03383637686207', 'type': 'hydraulicpressure', 'timestamp': '2023-10-09 23:06:13.103833'}\n",
            "{'idtemp': '18', 'data': '78.24866637308682', 'type': 'hydraulicpressure', 'timestamp': '2023-10-09 23:06:16.216903'}\n",
            "{'idtemp': '19', 'data': '72.45199955148736', 'type': 'hydraulicpressure', 'timestamp': '2023-10-09 23:06:19.324139'}\n",
            "{'idtemp': '20', 'data': '74.00464130161261', 'type': 'hydraulicpressure', 'timestamp': '2023-10-09 23:06:22.430028'}\n",
            "{'idtemp': '21', 'data': '79.2133297093441', 'type': 'hydraulicpressure', 'timestamp': '2023-10-09 23:06:25.535875'}\n",
            "{'idtemp': '22', 'data': '70.8939054784382', 'type': 'hydraulicpressure', 'timestamp': '2023-10-09 23:06:28.701574'}\n",
            "{'idtemp': '23', 'data': '70.95457179372734', 'type': 'hydraulicpressure', 'timestamp': '2023-10-09 23:06:31.809794'}\n",
            "{'idtemp': '24', 'data': '77.94546361495969', 'type': 'hydraulicpressure', 'timestamp': '2023-10-09 23:06:34.915874'}\n",
            "{'idtemp': '25', 'data': '78.08941068660161', 'type': 'hydraulicpressure', 'timestamp': '2023-10-09 23:06:38.020895'}\n",
            "{'idtemp': '26', 'data': '77.10282558754177', 'type': 'hydraulicpressure', 'timestamp': '2023-10-09 23:06:41.128500'}\n",
            "{'idtemp': '27', 'data': '75.62733607926423', 'type': 'hydraulicpressure', 'timestamp': '2023-10-09 23:06:44.238305'}\n",
            "{'idtemp': '28', 'data': '76.5086139940294', 'type': 'hydraulicpressure', 'timestamp': '2023-10-09 23:06:47.343354'}\n",
            "{'idtemp': '29', 'data': '72.04285473125456', 'type': 'hydraulicpressure', 'timestamp': '2023-10-09 23:06:50.449911'}\n",
            "{'idtemp': '30', 'data': '78.06453432853228', 'type': 'hydraulicpressure', 'timestamp': '2023-10-09 23:06:53.555988'}\n",
            "{'idtemp': '31', 'data': '78.93070046488792', 'type': 'hydraulicpressure', 'timestamp': '2023-10-09 23:06:56.661540'}\n",
            "{'idtemp': '32', 'data': '78.4852438032558', 'type': 'hydraulicpressure', 'timestamp': '2023-10-09 23:06:59.766591'}\n",
            "{'idtemp': '33', 'data': '74.27771503786605', 'type': 'hydraulicpressure', 'timestamp': '2023-10-09 23:07:02.871100'}\n",
            "{'idtemp': '34', 'data': '73.97507952924042', 'type': 'hydraulicpressure', 'timestamp': '2023-10-09 23:07:05.976759'}\n",
            "{'idtemp': '35', 'data': '78.20643686170143', 'type': 'hydraulicpressure', 'timestamp': '2023-10-09 23:07:09.083775'}\n",
            "{'idtemp': '36', 'data': '76.3129391356826', 'type': 'hydraulicpressure', 'timestamp': '2023-10-09 23:07:12.189207'}\n",
            "{'idtemp': '37', 'data': '70.71230106712301', 'type': 'hydraulicpressure', 'timestamp': '2023-10-09 23:07:15.294929'}\n",
            "{'idtemp': '38', 'data': '73.46753024070259', 'type': 'hydraulicpressure', 'timestamp': '2023-10-09 23:07:18.402087'}\n",
            "{'idtemp': '39', 'data': '70.87407157133525', 'type': 'hydraulicpressure', 'timestamp': '2023-10-09 23:07:21.506891'}\n",
            "{'idtemp': '40', 'data': '70.42330684285693', 'type': 'hydraulicpressure', 'timestamp': '2023-10-09 23:07:24.808398'}\n",
            "{'idtemp': '41', 'data': '78.52703769681531', 'type': 'hydraulicpressure', 'timestamp': '2023-10-09 23:07:27.913611'}\n",
            "{'idtemp': '42', 'data': '72.51060662087122', 'type': 'hydraulicpressure', 'timestamp': '2023-10-09 23:07:31.019427'}\n",
            "{'idtemp': '43', 'data': '71.48023281464327', 'type': 'hydraulicpressure', 'timestamp': '2023-10-09 23:07:34.249436'}\n",
            "{'idtemp': '44', 'data': '78.6132455752066', 'type': 'hydraulicpressure', 'timestamp': '2023-10-09 23:07:37.354400'}\n",
            "{'idtemp': '45', 'data': '74.77055634172626', 'type': 'hydraulicpressure', 'timestamp': '2023-10-09 23:07:40.459129'}\n",
            "{'idtemp': '46', 'data': '76.1412185761753', 'type': 'hydraulicpressure', 'timestamp': '2023-10-09 23:07:43.562819'}\n",
            "{'idtemp': '47', 'data': '79.39971311544342', 'type': 'hydraulicpressure', 'timestamp': '2023-10-09 23:07:46.668953'}\n",
            "{'idtemp': '48', 'data': '78.073487179974', 'type': 'hydraulicpressure', 'timestamp': '2023-10-09 23:07:49.772764'}\n",
            "{'idtemp': '49', 'data': '77.20084594195743', 'type': 'hydraulicpressure', 'timestamp': '2023-10-09 23:07:52.878446'}\n",
            "{'idtemp': '50', 'data': '74.72870238704199', 'type': 'hydraulicpressure', 'timestamp': '2023-10-09 23:07:55.988285'}\n",
            "{'idtemp': '51', 'data': '77.43329086721934', 'type': 'hydraulicpressure', 'timestamp': '2023-10-09 23:07:59.100593'}\n",
            "{'idtemp': '52', 'data': '76.93582122506196', 'type': 'hydraulicpressure', 'timestamp': '2023-10-09 23:08:02.208246'}\n",
            "{'idtemp': '53', 'data': '78.64684577461126', 'type': 'hydraulicpressure', 'timestamp': '2023-10-09 23:08:05.315200'}\n",
            "{'idtemp': '54', 'data': '71.89808657127372', 'type': 'hydraulicpressure', 'timestamp': '2023-10-09 23:08:08.419185'}\n",
            "{'idtemp': '55', 'data': '77.32901614151992', 'type': 'hydraulicpressure', 'timestamp': '2023-10-09 23:08:11.524495'}\n",
            "{'idtemp': '56', 'data': '75.86319666225478', 'type': 'hydraulicpressure', 'timestamp': '2023-10-09 23:08:14.631222'}\n",
            "{'idtemp': '57', 'data': '76.24244764447596', 'type': 'hydraulicpressure', 'timestamp': '2023-10-09 23:08:17.736820'}\n",
            "{'idtemp': '58', 'data': '78.44930593033487', 'type': 'hydraulicpressure', 'timestamp': '2023-10-09 23:08:20.842054'}\n",
            "{'idtemp': '59', 'data': '70.0687059737051', 'type': 'hydraulicpressure', 'timestamp': '2023-10-09 23:08:23.949335'}\n",
            "{'idtemp': '60', 'data': '79.06742698654864', 'type': 'hydraulicpressure', 'timestamp': '2023-10-09 23:08:27.053643'}\n",
            "{'idtemp': '61', 'data': '75.74295944075021', 'type': 'hydraulicpressure', 'timestamp': '2023-10-09 23:08:30.159626'}\n",
            "{'idtemp': '62', 'data': '73.84446340270655', 'type': 'hydraulicpressure', 'timestamp': '2023-10-09 23:08:33.265395'}\n",
            "{'idtemp': '63', 'data': '72.16796051040112', 'type': 'hydraulicpressure', 'timestamp': '2023-10-09 23:08:36.370369'}\n",
            "{'idtemp': '64', 'data': '77.92822423993378', 'type': 'hydraulicpressure', 'timestamp': '2023-10-09 23:08:39.476051'}\n",
            "{'idtemp': '65', 'data': '75.03243364803402', 'type': 'hydraulicpressure', 'timestamp': '2023-10-09 23:08:42.581788'}\n",
            "{'idtemp': '66', 'data': '77.52874042500594', 'type': 'hydraulicpressure', 'timestamp': '2023-10-09 23:08:45.687188'}\n",
            "{'idtemp': '67', 'data': '70.48254727073095', 'type': 'hydraulicpressure', 'timestamp': '2023-10-09 23:08:48.792467'}\n",
            "{'idtemp': '68', 'data': '74.8796758591775', 'type': 'hydraulicpressure', 'timestamp': '2023-10-09 23:08:51.899365'}\n",
            "{'idtemp': '69', 'data': '77.84136125000819', 'type': 'hydraulicpressure', 'timestamp': '2023-10-09 23:08:55.005503'}\n",
            "{'idtemp': '70', 'data': '74.73694221391138', 'type': 'hydraulicpressure', 'timestamp': '2023-10-09 23:08:58.119175'}\n",
            "{'idtemp': '71', 'data': '71.31003727844363', 'type': 'hydraulicpressure', 'timestamp': '2023-10-09 23:09:01.223947'}\n",
            "{'idtemp': '72', 'data': '75.97907836522137', 'type': 'hydraulicpressure', 'timestamp': '2023-10-09 23:09:04.330813'}\n",
            "{'idtemp': '73', 'data': '72.88848840810948', 'type': 'hydraulicpressure', 'timestamp': '2023-10-09 23:09:07.436166'}\n",
            "{'idtemp': '74', 'data': '72.38048690718342', 'type': 'hydraulicpressure', 'timestamp': '2023-10-09 23:09:10.542275'}\n",
            "{'idtemp': '75', 'data': '72.42158231668324', 'type': 'hydraulicpressure', 'timestamp': '2023-10-09 23:09:13.648757'}\n",
            "{'idtemp': '76', 'data': '72.8257522613136', 'type': 'hydraulicpressure', 'timestamp': '2023-10-09 23:09:16.759714'}\n",
            "{'idtemp': '77', 'data': '70.2794099179423', 'type': 'hydraulicpressure', 'timestamp': '2023-10-09 23:09:20.431277'}\n",
            "{'idtemp': '78', 'data': '75.8689439428879', 'type': 'hydraulicpressure', 'timestamp': '2023-10-09 23:09:23.536051'}\n",
            "{'idtemp': '79', 'data': '73.23222624310529', 'type': 'hydraulicpressure', 'timestamp': '2023-10-09 23:09:26.643643'}\n",
            "{'idtemp': '80', 'data': '76.11464584112547', 'type': 'hydraulicpressure', 'timestamp': '2023-10-09 23:09:29.748382'}\n",
            "{'idtemp': '81', 'data': '72.42545194716516', 'type': 'hydraulicpressure', 'timestamp': '2023-10-09 23:09:32.854837'}\n",
            "{'idtemp': '82', 'data': '79.81385709412896', 'type': 'hydraulicpressure', 'timestamp': '2023-10-09 23:09:35.961345'}\n",
            "{'idtemp': '83', 'data': '76.94696112266637', 'type': 'hydraulicpressure', 'timestamp': '2023-10-09 23:09:39.066674'}\n",
            "{'idtemp': '84', 'data': '79.27563437837253', 'type': 'hydraulicpressure', 'timestamp': '2023-10-09 23:09:42.173619'}\n",
            "{'idtemp': '85', 'data': '76.82508424175975', 'type': 'hydraulicpressure', 'timestamp': '2023-10-09 23:09:45.278642'}\n",
            "{'idtemp': '86', 'data': '79.11919261771082', 'type': 'hydraulicpressure', 'timestamp': '2023-10-09 23:09:48.385024'}\n",
            "{'idtemp': '87', 'data': '76.11438929113184', 'type': 'hydraulicpressure', 'timestamp': '2023-10-09 23:09:51.492729'}\n",
            "{'idtemp': '88', 'data': '77.83772318581275', 'type': 'hydraulicpressure', 'timestamp': '2023-10-09 23:09:54.598872'}\n",
            "{'idtemp': '89', 'data': '70.68975437846765', 'type': 'hydraulicpressure', 'timestamp': '2023-10-09 23:09:57.703476'}\n",
            "{'idtemp': '90', 'data': '73.7047058339953', 'type': 'hydraulicpressure', 'timestamp': '2023-10-09 23:10:00.811194'}\n",
            "{'idtemp': '91', 'data': '79.10939901610946', 'type': 'hydraulicpressure', 'timestamp': '2023-10-09 23:10:03.915925'}\n",
            "{'idtemp': '92', 'data': '75.89426260775714', 'type': 'hydraulicpressure', 'timestamp': '2023-10-09 23:10:07.022141'}\n",
            "{'idtemp': '93', 'data': '72.13186420330807', 'type': 'hydraulicpressure', 'timestamp': '2023-10-09 23:10:10.128708'}\n",
            "{'idtemp': '94', 'data': '76.48725539542323', 'type': 'hydraulicpressure', 'timestamp': '2023-10-09 23:10:13.233509'}\n",
            "{'idtemp': '95', 'data': '75.75683050848068', 'type': 'hydraulicpressure', 'timestamp': '2023-10-09 23:10:16.340446'}\n",
            "{'idtemp': '96', 'data': '76.81166158593909', 'type': 'hydraulicpressure', 'timestamp': '2023-10-09 23:10:19.448478'}\n",
            "{'idtemp': '97', 'data': '71.49295169510977', 'type': 'hydraulicpressure', 'timestamp': '2023-10-09 23:10:22.553352'}\n",
            "{'idtemp': '98', 'data': '77.39219917475968', 'type': 'hydraulicpressure', 'timestamp': '2023-10-09 23:10:25.659793'}\n",
            "{'idtemp': '99', 'data': '70.84474349308562', 'type': 'hydraulicpressure', 'timestamp': '2023-10-09 23:10:28.765835'}\n",
            "{'idtemp': '100', 'data': '75.25220739705068', 'type': 'hydraulicpressure', 'timestamp': '2023-10-09 23:10:31.872241'}\n",
            "{'idtemp': '101', 'data': '70.42802625413535', 'type': 'hydraulicpressure', 'timestamp': '2023-10-09 23:10:35.007565'}\n",
            "{'idtemp': '102', 'data': '77.11180387993255', 'type': 'hydraulicpressure', 'timestamp': '2023-10-09 23:10:38.114044'}\n",
            "{'idtemp': '103', 'data': '70.70784125494382', 'type': 'hydraulicpressure', 'timestamp': '2023-10-09 23:10:41.258743'}\n",
            "{'idtemp': '104', 'data': '77.16627177847218', 'type': 'hydraulicpressure', 'timestamp': '2023-10-09 23:10:44.364305'}\n",
            "{'idtemp': '105', 'data': '78.44829975398807', 'type': 'hydraulicpressure', 'timestamp': '2023-10-09 23:10:47.469760'}\n",
            "{'idtemp': '106', 'data': '71.64627035162759', 'type': 'hydraulicpressure', 'timestamp': '2023-10-09 23:10:50.577624'}\n",
            "{'idtemp': '107', 'data': '78.94946283629884', 'type': 'hydraulicpressure', 'timestamp': '2023-10-09 23:10:53.683379'}\n",
            "{'idtemp': '108', 'data': '77.38235152717428', 'type': 'hydraulicpressure', 'timestamp': '2023-10-09 23:10:56.788265'}\n",
            "{'idtemp': '109', 'data': '79.05884294433119', 'type': 'hydraulicpressure', 'timestamp': '2023-10-09 23:10:59.895677'}\n",
            "{'idtemp': '110', 'data': '79.24353765542604', 'type': 'hydraulicpressure', 'timestamp': '2023-10-09 23:11:03.003619'}\n",
            "{'idtemp': '111', 'data': '74.60781672527301', 'type': 'hydraulicpressure', 'timestamp': '2023-10-09 23:11:06.108227'}\n",
            "{'idtemp': '112', 'data': '72.5048502590479', 'type': 'hydraulicpressure', 'timestamp': '2023-10-09 23:11:09.214862'}\n"
          ]
        },
        {
          "ename": "KeyboardInterrupt",
          "evalue": "",
          "output_type": "error",
          "traceback": [
            "\u001b[1;31m---------------------------------------------------------------------------\u001b[0m",
            "\u001b[1;31mKeyboardInterrupt\u001b[0m                         Traceback (most recent call last)",
            "\u001b[1;32mc:\\Users\\lucas\\OneDrive\\Área de Trabalho\\Udemy Cursos\\CURSO - EngDadosNovo\\Formacao Engenharia Dados\\18.Projeto Final II\\scripts\\hydraulic_pressure.ipynb Cell 2\u001b[0m line \u001b[0;36m1\n\u001b[0;32m     <a href='vscode-notebook-cell:/c%3A/Users/lucas/OneDrive/%C3%81rea%20de%20Trabalho/Udemy%20Cursos/CURSO%20-%20EngDadosNovo/Formacao%20Engenharia%20Dados/18.Projeto%20Final%20II/scripts/hydraulic_pressure.ipynb#W1sZmlsZQ%3D%3D?line=14'>15</a>\u001b[0m registro \u001b[39m=\u001b[39m {\u001b[39m'\u001b[39m\u001b[39midtemp\u001b[39m\u001b[39m'\u001b[39m : \u001b[39mstr\u001b[39m(\u001b[39mid\u001b[39m), \u001b[39m'\u001b[39m\u001b[39mdata\u001b[39m\u001b[39m'\u001b[39m : \u001b[39mstr\u001b[39m(dados), \u001b[39m'\u001b[39m\u001b[39mtype\u001b[39m\u001b[39m'\u001b[39m: \u001b[39m'\u001b[39m\u001b[39mhydraulicpressure\u001b[39m\u001b[39m'\u001b[39m, \u001b[39m'\u001b[39m\u001b[39mtimestamp\u001b[39m\u001b[39m'\u001b[39m : \u001b[39mstr\u001b[39m(datetime\u001b[39m.\u001b[39mnow()) }\n\u001b[0;32m     <a href='vscode-notebook-cell:/c%3A/Users/lucas/OneDrive/%C3%81rea%20de%20Trabalho/Udemy%20Cursos/CURSO%20-%20EngDadosNovo/Formacao%20Engenharia%20Dados/18.Projeto%20Final%20II/scripts/hydraulic_pressure.ipynb#W1sZmlsZQ%3D%3D?line=15'>16</a>\u001b[0m cliente\u001b[39m.\u001b[39mput_record(StreamName\u001b[39m=\u001b[39m\u001b[39m'\u001b[39m\u001b[39mwindfarm\u001b[39m\u001b[39m'\u001b[39m, Data \u001b[39m=\u001b[39m json\u001b[39m.\u001b[39mdumps(registro), PartitionKey\u001b[39m=\u001b[39m\u001b[39m'\u001b[39m\u001b[39m02\u001b[39m\u001b[39m'\u001b[39m)\n\u001b[1;32m---> <a href='vscode-notebook-cell:/c%3A/Users/lucas/OneDrive/%C3%81rea%20de%20Trabalho/Udemy%20Cursos/CURSO%20-%20EngDadosNovo/Formacao%20Engenharia%20Dados/18.Projeto%20Final%20II/scripts/hydraulic_pressure.ipynb#W1sZmlsZQ%3D%3D?line=16'>17</a>\u001b[0m time\u001b[39m.\u001b[39msleep(\u001b[39m3\u001b[39m)\n\u001b[0;32m     <a href='vscode-notebook-cell:/c%3A/Users/lucas/OneDrive/%C3%81rea%20de%20Trabalho/Udemy%20Cursos/CURSO%20-%20EngDadosNovo/Formacao%20Engenharia%20Dados/18.Projeto%20Final%20II/scripts/hydraulic_pressure.ipynb#W1sZmlsZQ%3D%3D?line=17'>18</a>\u001b[0m \u001b[39mprint\u001b[39m(registro)\n",
            "\u001b[1;31mKeyboardInterrupt\u001b[0m: "
          ]
        }
      ],
      "source": [
        "import boto3\n",
        "import json\n",
        "from random import uniform\n",
        "import time\n",
        "from datetime import datetime\n",
        "\n",
        "#Add the Acess Key\n",
        "cliente = boto3.client('kinesis',aws_access_key_id='', aws_secret_access_key='',\n",
        "                       region_name='us-east-1')\n",
        "\n",
        "id = 0\n",
        "while True:\n",
        "  dados = uniform(70,80)\n",
        "  id += 1;\n",
        "  registro = {'idtemp' : str(id), 'data' : str(dados), 'type': 'hydraulicpressure', 'timestamp' : str(datetime.now()) }\n",
        "  cliente.put_record(StreamName='windfarm', Data = json.dumps(registro), PartitionKey='02')\n",
        "  time.sleep(3)\n",
        "  print(registro)"
      ]
    },
    {
      "cell_type": "code",
      "execution_count": null,
      "metadata": {
        "id": "y-ZLrSzCi-ec"
      },
      "outputs": [],
      "source": []
    }
  ],
  "metadata": {
    "colab": {
      "provenance": []
    },
    "kernelspec": {
      "display_name": "Python 3",
      "name": "python3"
    },
    "language_info": {
      "codemirror_mode": {
        "name": "ipython",
        "version": 3
      },
      "file_extension": ".py",
      "mimetype": "text/x-python",
      "name": "python",
      "nbconvert_exporter": "python",
      "pygments_lexer": "ipython3",
      "version": "3.11.5"
    }
  },
  "nbformat": 4,
  "nbformat_minor": 0
}
