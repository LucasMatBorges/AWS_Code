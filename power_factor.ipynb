{
  "cells": [
    {
      "cell_type": "code",
      "execution_count": 3,
      "metadata": {
        "id": "9T_7M2jYaVlF"
      },
      "outputs": [],
      "source": [
        "#!pip install boto3"
      ]
    },
    {
      "cell_type": "code",
      "execution_count": 8,
      "metadata": {
        "colab": {
          "base_uri": "https://localhost:8080/",
          "height": 235
        },
        "id": "IvQTW5t3ai7j",
        "outputId": "6622bb9a-31ea-4afd-fd8a-e36e1a13c284"
      },
      "outputs": [
        {
          "name": "stdout",
          "output_type": "stream",
          "text": [
            "{'idtemp': '1', 'data': '0.9313113525600935', 'type': 'powerfactor', 'timestamp': '2023-10-09 23:05:24.391925'}\n",
            "{'idtemp': '2', 'data': '0.878638561325398', 'type': 'powerfactor', 'timestamp': '2023-10-09 23:05:28.052992'}\n",
            "{'idtemp': '3', 'data': '0.7591647313913465', 'type': 'powerfactor', 'timestamp': '2023-10-09 23:05:31.158414'}\n",
            "{'idtemp': '4', 'data': '0.7902366840632711', 'type': 'powerfactor', 'timestamp': '2023-10-09 23:05:34.372544'}\n",
            "{'idtemp': '5', 'data': '0.7049772430654244', 'type': 'powerfactor', 'timestamp': '2023-10-09 23:05:37.477048'}\n",
            "{'idtemp': '6', 'data': '0.8054438913861622', 'type': 'powerfactor', 'timestamp': '2023-10-09 23:05:40.583805'}\n",
            "{'idtemp': '7', 'data': '0.931107462452873', 'type': 'powerfactor', 'timestamp': '2023-10-09 23:05:43.691217'}\n",
            "{'idtemp': '8', 'data': '0.8164857434016914', 'type': 'powerfactor', 'timestamp': '2023-10-09 23:05:46.797996'}\n",
            "{'idtemp': '9', 'data': '0.7405521168438859', 'type': 'powerfactor', 'timestamp': '2023-10-09 23:05:49.906353'}\n",
            "{'idtemp': '10', 'data': '0.9408556576321895', 'type': 'powerfactor', 'timestamp': '2023-10-09 23:05:53.012042'}\n",
            "{'idtemp': '11', 'data': '0.7630320406635793', 'type': 'powerfactor', 'timestamp': '2023-10-09 23:05:56.117233'}\n",
            "{'idtemp': '12', 'data': '0.9857454208637716', 'type': 'powerfactor', 'timestamp': '2023-10-09 23:05:59.223728'}\n",
            "{'idtemp': '13', 'data': '0.8201753303352377', 'type': 'powerfactor', 'timestamp': '2023-10-09 23:06:02.328197'}\n",
            "{'idtemp': '14', 'data': '0.7533306287629206', 'type': 'powerfactor', 'timestamp': '2023-10-09 23:06:05.433485'}\n",
            "{'idtemp': '15', 'data': '0.9433361258465188', 'type': 'powerfactor', 'timestamp': '2023-10-09 23:06:08.539166'}\n",
            "{'idtemp': '16', 'data': '0.7213890797694147', 'type': 'powerfactor', 'timestamp': '2023-10-09 23:06:11.646612'}\n",
            "{'idtemp': '17', 'data': '0.7546601490983958', 'type': 'powerfactor', 'timestamp': '2023-10-09 23:06:14.780376'}\n",
            "{'idtemp': '18', 'data': '0.9814704179123588', 'type': 'powerfactor', 'timestamp': '2023-10-09 23:06:17.963024'}\n",
            "{'idtemp': '19', 'data': '0.9483696071600904', 'type': 'powerfactor', 'timestamp': '2023-10-09 23:06:21.069407'}\n",
            "{'idtemp': '20', 'data': '0.7783179425497002', 'type': 'powerfactor', 'timestamp': '2023-10-09 23:06:24.177300'}\n",
            "{'idtemp': '21', 'data': '0.7663709868435783', 'type': 'powerfactor', 'timestamp': '2023-10-09 23:06:27.282995'}\n",
            "{'idtemp': '22', 'data': '0.8040622776306012', 'type': 'powerfactor', 'timestamp': '2023-10-09 23:06:30.482462'}\n",
            "{'idtemp': '23', 'data': '0.7164182454036356', 'type': 'powerfactor', 'timestamp': '2023-10-09 23:06:33.587599'}\n",
            "{'idtemp': '24', 'data': '0.7962628170738908', 'type': 'powerfactor', 'timestamp': '2023-10-09 23:06:36.693387'}\n",
            "{'idtemp': '25', 'data': '0.8072154729575329', 'type': 'powerfactor', 'timestamp': '2023-10-09 23:06:39.798117'}\n",
            "{'idtemp': '26', 'data': '0.8648069355950125', 'type': 'powerfactor', 'timestamp': '2023-10-09 23:06:42.910765'}\n",
            "{'idtemp': '27', 'data': '0.8215156793901619', 'type': 'powerfactor', 'timestamp': '2023-10-09 23:06:46.018105'}\n",
            "{'idtemp': '28', 'data': '0.8911459793077086', 'type': 'powerfactor', 'timestamp': '2023-10-09 23:06:49.133089'}\n",
            "{'idtemp': '29', 'data': '0.743404064784188', 'type': 'powerfactor', 'timestamp': '2023-10-09 23:06:52.236472'}\n",
            "{'idtemp': '30', 'data': '0.9534375109355848', 'type': 'powerfactor', 'timestamp': '2023-10-09 23:06:55.342304'}\n",
            "{'idtemp': '31', 'data': '0.9439379376092085', 'type': 'powerfactor', 'timestamp': '2023-10-09 23:06:58.451099'}\n",
            "{'idtemp': '32', 'data': '0.7880799421757707', 'type': 'powerfactor', 'timestamp': '2023-10-09 23:07:01.616917'}\n",
            "{'idtemp': '33', 'data': '0.7577700669280937', 'type': 'powerfactor', 'timestamp': '2023-10-09 23:07:04.721899'}\n",
            "{'idtemp': '34', 'data': '0.7207398650765154', 'type': 'powerfactor', 'timestamp': '2023-10-09 23:07:07.828035'}\n",
            "{'idtemp': '35', 'data': '0.8451582194130611', 'type': 'powerfactor', 'timestamp': '2023-10-09 23:07:10.958544'}\n",
            "{'idtemp': '36', 'data': '0.8886052735405969', 'type': 'powerfactor', 'timestamp': '2023-10-09 23:07:14.066407'}\n",
            "{'idtemp': '37', 'data': '0.8941021591739864', 'type': 'powerfactor', 'timestamp': '2023-10-09 23:07:17.173370'}\n",
            "{'idtemp': '38', 'data': '0.8000850571676297', 'type': 'powerfactor', 'timestamp': '2023-10-09 23:07:20.279062'}\n",
            "{'idtemp': '39', 'data': '0.7467643460340764', 'type': 'powerfactor', 'timestamp': '2023-10-09 23:07:23.673465'}\n",
            "{'idtemp': '40', 'data': '0.7588213023242153', 'type': 'powerfactor', 'timestamp': '2023-10-09 23:07:27.108680'}\n",
            "{'idtemp': '41', 'data': '0.7516662428305323', 'type': 'powerfactor', 'timestamp': '2023-10-09 23:07:30.213489'}\n",
            "{'idtemp': '42', 'data': '0.8855675984742619', 'type': 'powerfactor', 'timestamp': '2023-10-09 23:07:33.319606'}\n",
            "{'idtemp': '43', 'data': '0.8080241673773587', 'type': 'powerfactor', 'timestamp': '2023-10-09 23:07:36.425363'}\n",
            "{'idtemp': '44', 'data': '0.8187224076009216', 'type': 'powerfactor', 'timestamp': '2023-10-09 23:07:39.532447'}\n",
            "{'idtemp': '45', 'data': '0.742400766393875', 'type': 'powerfactor', 'timestamp': '2023-10-09 23:07:42.636888'}\n",
            "{'idtemp': '46', 'data': '0.7427899709028333', 'type': 'powerfactor', 'timestamp': '2023-10-09 23:07:45.797956'}\n",
            "{'idtemp': '47', 'data': '0.973683083827413', 'type': 'powerfactor', 'timestamp': '2023-10-09 23:07:48.901283'}\n",
            "{'idtemp': '48', 'data': '0.9550047332483462', 'type': 'powerfactor', 'timestamp': '2023-10-09 23:07:52.006614'}\n",
            "{'idtemp': '49', 'data': '0.7203912484639406', 'type': 'powerfactor', 'timestamp': '2023-10-09 23:07:55.111878'}\n",
            "{'idtemp': '50', 'data': '0.9240713507219738', 'type': 'powerfactor', 'timestamp': '2023-10-09 23:07:58.218605'}\n",
            "{'idtemp': '51', 'data': '0.8159607838396841', 'type': 'powerfactor', 'timestamp': '2023-10-09 23:08:01.323885'}\n",
            "{'idtemp': '52', 'data': '0.8019464448601981', 'type': 'powerfactor', 'timestamp': '2023-10-09 23:08:04.432148'}\n",
            "{'idtemp': '53', 'data': '0.7780395727825389', 'type': 'powerfactor', 'timestamp': '2023-10-09 23:08:07.538571'}\n",
            "{'idtemp': '54', 'data': '0.9190069228455972', 'type': 'powerfactor', 'timestamp': '2023-10-09 23:08:10.645015'}\n",
            "{'idtemp': '55', 'data': '0.7547321659928534', 'type': 'powerfactor', 'timestamp': '2023-10-09 23:08:13.752361'}\n",
            "{'idtemp': '56', 'data': '0.9903085230720151', 'type': 'powerfactor', 'timestamp': '2023-10-09 23:08:16.859710'}\n",
            "{'idtemp': '57', 'data': '0.9648517881795493', 'type': 'powerfactor', 'timestamp': '2023-10-09 23:08:19.966099'}\n",
            "{'idtemp': '58', 'data': '0.9760838082401039', 'type': 'powerfactor', 'timestamp': '2023-10-09 23:08:23.072048'}\n",
            "{'idtemp': '59', 'data': '0.7059706577939769', 'type': 'powerfactor', 'timestamp': '2023-10-09 23:08:26.182872'}\n",
            "{'idtemp': '60', 'data': '0.9946336452639328', 'type': 'powerfactor', 'timestamp': '2023-10-09 23:08:29.287833'}\n",
            "{'idtemp': '61', 'data': '0.8068001361501119', 'type': 'powerfactor', 'timestamp': '2023-10-09 23:08:32.394408'}\n",
            "{'idtemp': '62', 'data': '0.8855491954734593', 'type': 'powerfactor', 'timestamp': '2023-10-09 23:08:35.502314'}\n",
            "{'idtemp': '63', 'data': '0.8765662698972546', 'type': 'powerfactor', 'timestamp': '2023-10-09 23:08:38.607319'}\n",
            "{'idtemp': '64', 'data': '0.7763044265449054', 'type': 'powerfactor', 'timestamp': '2023-10-09 23:08:41.713861'}\n",
            "{'idtemp': '65', 'data': '0.9625711689130281', 'type': 'powerfactor', 'timestamp': '2023-10-09 23:08:44.819551'}\n",
            "{'idtemp': '66', 'data': '0.7665508840577365', 'type': 'powerfactor', 'timestamp': '2023-10-09 23:08:47.924586'}\n",
            "{'idtemp': '67', 'data': '0.95444454115172', 'type': 'powerfactor', 'timestamp': '2023-10-09 23:08:51.031378'}\n",
            "{'idtemp': '68', 'data': '0.8120847938719337', 'type': 'powerfactor', 'timestamp': '2023-10-09 23:08:54.236572'}\n",
            "{'idtemp': '69', 'data': '0.8012540176260119', 'type': 'powerfactor', 'timestamp': '2023-10-09 23:08:57.344485'}\n",
            "{'idtemp': '70', 'data': '0.9494089361626361', 'type': 'powerfactor', 'timestamp': '2023-10-09 23:09:00.452619'}\n",
            "{'idtemp': '71', 'data': '0.7585324250108034', 'type': 'powerfactor', 'timestamp': '2023-10-09 23:09:03.558437'}\n",
            "{'idtemp': '72', 'data': '0.8227849720796673', 'type': 'powerfactor', 'timestamp': '2023-10-09 23:09:06.664858'}\n",
            "{'idtemp': '73', 'data': '0.8392071913767353', 'type': 'powerfactor', 'timestamp': '2023-10-09 23:09:09.769632'}\n",
            "{'idtemp': '74', 'data': '0.9014728876978249', 'type': 'powerfactor', 'timestamp': '2023-10-09 23:09:12.874715'}\n",
            "{'idtemp': '75', 'data': '0.9201549736261431', 'type': 'powerfactor', 'timestamp': '2023-10-09 23:09:15.980725'}\n",
            "{'idtemp': '76', 'data': '0.8490434681020289', 'type': 'powerfactor', 'timestamp': '2023-10-09 23:09:19.086590'}\n",
            "{'idtemp': '77', 'data': '0.7846224514871446', 'type': 'powerfactor', 'timestamp': '2023-10-09 23:09:22.767389'}\n",
            "{'idtemp': '78', 'data': '0.7622068035389266', 'type': 'powerfactor', 'timestamp': '2023-10-09 23:09:25.871851'}\n",
            "{'idtemp': '79', 'data': '0.7495782695511864', 'type': 'powerfactor', 'timestamp': '2023-10-09 23:09:28.977219'}\n",
            "{'idtemp': '80', 'data': '0.8188513177817389', 'type': 'powerfactor', 'timestamp': '2023-10-09 23:09:32.080912'}\n",
            "{'idtemp': '81', 'data': '0.8333058742796263', 'type': 'powerfactor', 'timestamp': '2023-10-09 23:09:35.188906'}\n",
            "{'idtemp': '82', 'data': '0.7300875857456731', 'type': 'powerfactor', 'timestamp': '2023-10-09 23:09:38.295039'}\n",
            "{'idtemp': '83', 'data': '0.9451909091939825', 'type': 'powerfactor', 'timestamp': '2023-10-09 23:09:41.400344'}\n",
            "{'idtemp': '84', 'data': '0.9913131540108784', 'type': 'powerfactor', 'timestamp': '2023-10-09 23:09:44.506294'}\n",
            "{'idtemp': '85', 'data': '0.892344612406089', 'type': 'powerfactor', 'timestamp': '2023-10-09 23:09:47.612067'}\n",
            "{'idtemp': '86', 'data': '0.966607396377033', 'type': 'powerfactor', 'timestamp': '2023-10-09 23:09:50.716548'}\n",
            "{'idtemp': '87', 'data': '0.8858931454261725', 'type': 'powerfactor', 'timestamp': '2023-10-09 23:09:53.820752'}\n",
            "{'idtemp': '88', 'data': '0.7783843450341379', 'type': 'powerfactor', 'timestamp': '2023-10-09 23:09:56.924696'}\n",
            "{'idtemp': '89', 'data': '0.9352096047919035', 'type': 'powerfactor', 'timestamp': '2023-10-09 23:10:00.030800'}\n",
            "{'idtemp': '90', 'data': '0.9317084639086527', 'type': 'powerfactor', 'timestamp': '2023-10-09 23:10:03.133934'}\n",
            "{'idtemp': '91', 'data': '0.7310743378665129', 'type': 'powerfactor', 'timestamp': '2023-10-09 23:10:06.240690'}\n",
            "{'idtemp': '92', 'data': '0.7147951473636915', 'type': 'powerfactor', 'timestamp': '2023-10-09 23:10:09.345875'}\n",
            "{'idtemp': '93', 'data': '0.7161281013396392', 'type': 'powerfactor', 'timestamp': '2023-10-09 23:10:12.558608'}\n",
            "{'idtemp': '94', 'data': '0.9276441156469737', 'type': 'powerfactor', 'timestamp': '2023-10-09 23:10:15.710813'}\n",
            "{'idtemp': '95', 'data': '0.9542427407823773', 'type': 'powerfactor', 'timestamp': '2023-10-09 23:10:18.816636'}\n",
            "{'idtemp': '96', 'data': '0.9776590710663979', 'type': 'powerfactor', 'timestamp': '2023-10-09 23:10:21.921868'}\n",
            "{'idtemp': '97', 'data': '0.8034569380608005', 'type': 'powerfactor', 'timestamp': '2023-10-09 23:10:25.026493'}\n",
            "{'idtemp': '98', 'data': '0.8003205326192329', 'type': 'powerfactor', 'timestamp': '2023-10-09 23:10:28.141683'}\n",
            "{'idtemp': '99', 'data': '0.8376768009154079', 'type': 'powerfactor', 'timestamp': '2023-10-09 23:10:31.246121'}\n",
            "{'idtemp': '100', 'data': '0.907750781809088', 'type': 'powerfactor', 'timestamp': '2023-10-09 23:10:34.351894'}\n",
            "{'idtemp': '101', 'data': '0.9262930842017203', 'type': 'powerfactor', 'timestamp': '2023-10-09 23:10:37.457274'}\n",
            "{'idtemp': '102', 'data': '0.7329321117214472', 'type': 'powerfactor', 'timestamp': '2023-10-09 23:10:40.561838'}\n",
            "{'idtemp': '103', 'data': '0.9362714053759157', 'type': 'powerfactor', 'timestamp': '2023-10-09 23:10:43.667538'}\n",
            "{'idtemp': '104', 'data': '0.8896050388017916', 'type': 'powerfactor', 'timestamp': '2023-10-09 23:10:46.782511'}\n",
            "{'idtemp': '105', 'data': '0.8992222930854222', 'type': 'powerfactor', 'timestamp': '2023-10-09 23:10:49.887192'}\n",
            "{'idtemp': '106', 'data': '0.9580763814563164', 'type': 'powerfactor', 'timestamp': '2023-10-09 23:10:52.992515'}\n",
            "{'idtemp': '107', 'data': '0.792195211605459', 'type': 'powerfactor', 'timestamp': '2023-10-09 23:10:56.098129'}\n",
            "{'idtemp': '108', 'data': '0.9971789205513817', 'type': 'powerfactor', 'timestamp': '2023-10-09 23:10:59.205869'}\n",
            "{'idtemp': '109', 'data': '0.8062117191254101', 'type': 'powerfactor', 'timestamp': '2023-10-09 23:11:02.310914'}\n",
            "{'idtemp': '110', 'data': '0.821619513031664', 'type': 'powerfactor', 'timestamp': '2023-10-09 23:11:05.418031'}\n",
            "{'idtemp': '111', 'data': '0.8219935758408466', 'type': 'powerfactor', 'timestamp': '2023-10-09 23:11:08.523056'}\n"
          ]
        },
        {
          "ename": "KeyboardInterrupt",
          "evalue": "",
          "output_type": "error",
          "traceback": [
            "\u001b[1;31m---------------------------------------------------------------------------\u001b[0m",
            "\u001b[1;31mKeyboardInterrupt\u001b[0m                         Traceback (most recent call last)",
            "\u001b[1;32mc:\\Users\\lucas\\OneDrive\\Área de Trabalho\\Udemy Cursos\\CURSO - EngDadosNovo\\Formacao Engenharia Dados\\18.Projeto Final II\\scripts\\power_factor.ipynb Cell 2\u001b[0m line \u001b[0;36m1\n\u001b[0;32m     <a href='vscode-notebook-cell:/c%3A/Users/lucas/OneDrive/%C3%81rea%20de%20Trabalho/Udemy%20Cursos/CURSO%20-%20EngDadosNovo/Formacao%20Engenharia%20Dados/18.Projeto%20Final%20II/scripts/power_factor.ipynb#W1sZmlsZQ%3D%3D?line=14'>15</a>\u001b[0m registro \u001b[39m=\u001b[39m {\u001b[39m'\u001b[39m\u001b[39midtemp\u001b[39m\u001b[39m'\u001b[39m : \u001b[39mstr\u001b[39m(\u001b[39mid\u001b[39m), \u001b[39m'\u001b[39m\u001b[39mdata\u001b[39m\u001b[39m'\u001b[39m : \u001b[39mstr\u001b[39m(dados), \u001b[39m'\u001b[39m\u001b[39mtype\u001b[39m\u001b[39m'\u001b[39m: \u001b[39m'\u001b[39m\u001b[39mpowerfactor\u001b[39m\u001b[39m'\u001b[39m, \u001b[39m'\u001b[39m\u001b[39mtimestamp\u001b[39m\u001b[39m'\u001b[39m : \u001b[39mstr\u001b[39m(datetime\u001b[39m.\u001b[39mnow()) }\n\u001b[0;32m     <a href='vscode-notebook-cell:/c%3A/Users/lucas/OneDrive/%C3%81rea%20de%20Trabalho/Udemy%20Cursos/CURSO%20-%20EngDadosNovo/Formacao%20Engenharia%20Dados/18.Projeto%20Final%20II/scripts/power_factor.ipynb#W1sZmlsZQ%3D%3D?line=15'>16</a>\u001b[0m cliente\u001b[39m.\u001b[39mput_record(StreamName\u001b[39m=\u001b[39m\u001b[39m'\u001b[39m\u001b[39mwindfarm\u001b[39m\u001b[39m'\u001b[39m, Data \u001b[39m=\u001b[39m json\u001b[39m.\u001b[39mdumps(registro), PartitionKey\u001b[39m=\u001b[39m\u001b[39m'\u001b[39m\u001b[39m02\u001b[39m\u001b[39m'\u001b[39m)\n\u001b[1;32m---> <a href='vscode-notebook-cell:/c%3A/Users/lucas/OneDrive/%C3%81rea%20de%20Trabalho/Udemy%20Cursos/CURSO%20-%20EngDadosNovo/Formacao%20Engenharia%20Dados/18.Projeto%20Final%20II/scripts/power_factor.ipynb#W1sZmlsZQ%3D%3D?line=16'>17</a>\u001b[0m time\u001b[39m.\u001b[39msleep(\u001b[39m3\u001b[39m)\n\u001b[0;32m     <a href='vscode-notebook-cell:/c%3A/Users/lucas/OneDrive/%C3%81rea%20de%20Trabalho/Udemy%20Cursos/CURSO%20-%20EngDadosNovo/Formacao%20Engenharia%20Dados/18.Projeto%20Final%20II/scripts/power_factor.ipynb#W1sZmlsZQ%3D%3D?line=17'>18</a>\u001b[0m \u001b[39mprint\u001b[39m(registro)\n",
            "\u001b[1;31mKeyboardInterrupt\u001b[0m: "
          ]
        }
      ],
      "source": [
        "import boto3\n",
        "import json\n",
        "from random import uniform\n",
        "import time\n",
        "from datetime import datetime\n",
        "\n",
        "#Add the Acess Key\n",
        "cliente = boto3.client('kinesis',aws_access_key_id='', aws_secret_access_key='',\n",
        "                      region_name='us-east-1')\n",
        "\n",
        "id = 0\n",
        "while True:\n",
        "  dados = uniform(0.7,1)\n",
        "  id += 1;\n",
        "  registro = {'idtemp' : str(id), 'data' : str(dados), 'type': 'powerfactor', 'timestamp' : str(datetime.now()) }\n",
        "  cliente.put_record(StreamName='windfarm', Data = json.dumps(registro), PartitionKey='02')\n",
        "  time.sleep(3)\n",
        "  print(registro)\n",
        "\n",
        "\n"
      ]
    },
    {
      "cell_type": "code",
      "execution_count": null,
      "metadata": {
        "id": "R6d4J7lddHkg"
      },
      "outputs": [],
      "source": []
    },
    {
      "cell_type": "code",
      "execution_count": null,
      "metadata": {
        "id": "HnjZPdTxckcN"
      },
      "outputs": [],
      "source": []
    }
  ],
  "metadata": {
    "colab": {
      "provenance": []
    },
    "kernelspec": {
      "display_name": "Python 3",
      "name": "python3"
    },
    "language_info": {
      "codemirror_mode": {
        "name": "ipython",
        "version": 3
      },
      "file_extension": ".py",
      "mimetype": "text/x-python",
      "name": "python",
      "nbconvert_exporter": "python",
      "pygments_lexer": "ipython3",
      "version": "3.11.5"
    }
  },
  "nbformat": 4,
  "nbformat_minor": 0
}
