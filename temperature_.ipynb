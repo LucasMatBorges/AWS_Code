{
  "cells": [
    {
      "cell_type": "code",
      "execution_count": null,
      "metadata": {
        "id": "XVvN2xVtdJkC"
      },
      "outputs": [],
      "source": [
        "#!pip install boto3"
      ]
    },
    {
      "cell_type": "code",
      "execution_count": 4,
      "metadata": {
        "colab": {
          "base_uri": "https://localhost:8080/",
          "height": 201
        },
        "id": "Dy8PzJ0SdJ4t",
        "outputId": "71bbf94e-3878-4d92-c862-e0ca2e357476"
      },
      "outputs": [
        {
          "ename": "KeyboardInterrupt",
          "evalue": "",
          "output_type": "error",
          "traceback": [
            "\u001b[1;31m---------------------------------------------------------------------------\u001b[0m",
            "\u001b[1;31mKeyboardInterrupt\u001b[0m                         Traceback (most recent call last)",
            "\u001b[1;32mc:\\Users\\lucas\\OneDrive\\Área de Trabalho\\Udemy Cursos\\CURSO - EngDadosNovo\\Formacao Engenharia Dados\\18.Projeto Final II\\scripts\\temperature_.ipynb Cell 2\u001b[0m line \u001b[0;36m1\n\u001b[0;32m     <a href='vscode-notebook-cell:/c%3A/Users/lucas/OneDrive/%C3%81rea%20de%20Trabalho/Udemy%20Cursos/CURSO%20-%20EngDadosNovo/Formacao%20Engenharia%20Dados/18.Projeto%20Final%20II/scripts/temperature_.ipynb#W1sZmlsZQ%3D%3D?line=14'>15</a>\u001b[0m registro \u001b[39m=\u001b[39m {\u001b[39m'\u001b[39m\u001b[39midtemp\u001b[39m\u001b[39m'\u001b[39m : \u001b[39mstr\u001b[39m(\u001b[39mid\u001b[39m), \u001b[39m'\u001b[39m\u001b[39mdata\u001b[39m\u001b[39m'\u001b[39m : \u001b[39mstr\u001b[39m(dados), \u001b[39m'\u001b[39m\u001b[39mtype\u001b[39m\u001b[39m'\u001b[39m: \u001b[39m'\u001b[39m\u001b[39mtemperature\u001b[39m\u001b[39m'\u001b[39m, \u001b[39m'\u001b[39m\u001b[39mtimestamp\u001b[39m\u001b[39m'\u001b[39m : \u001b[39mstr\u001b[39m(datetime\u001b[39m.\u001b[39mnow()) }\n\u001b[0;32m     <a href='vscode-notebook-cell:/c%3A/Users/lucas/OneDrive/%C3%81rea%20de%20Trabalho/Udemy%20Cursos/CURSO%20-%20EngDadosNovo/Formacao%20Engenharia%20Dados/18.Projeto%20Final%20II/scripts/temperature_.ipynb#W1sZmlsZQ%3D%3D?line=15'>16</a>\u001b[0m cliente\u001b[39m.\u001b[39mput_record(StreamName\u001b[39m=\u001b[39m\u001b[39m'\u001b[39m\u001b[39mwindfarm\u001b[39m\u001b[39m'\u001b[39m, Data \u001b[39m=\u001b[39m json\u001b[39m.\u001b[39mdumps(registro), PartitionKey\u001b[39m=\u001b[39m\u001b[39m'\u001b[39m\u001b[39m02\u001b[39m\u001b[39m'\u001b[39m)\n\u001b[1;32m---> <a href='vscode-notebook-cell:/c%3A/Users/lucas/OneDrive/%C3%81rea%20de%20Trabalho/Udemy%20Cursos/CURSO%20-%20EngDadosNovo/Formacao%20Engenharia%20Dados/18.Projeto%20Final%20II/scripts/temperature_.ipynb#W1sZmlsZQ%3D%3D?line=16'>17</a>\u001b[0m time\u001b[39m.\u001b[39;49msleep(\u001b[39m3\u001b[39;49m)\n\u001b[0;32m     <a href='vscode-notebook-cell:/c%3A/Users/lucas/OneDrive/%C3%81rea%20de%20Trabalho/Udemy%20Cursos/CURSO%20-%20EngDadosNovo/Formacao%20Engenharia%20Dados/18.Projeto%20Final%20II/scripts/temperature_.ipynb#W1sZmlsZQ%3D%3D?line=17'>18</a>\u001b[0m \u001b[39mprint\u001b[39m(registro)\n",
            "\u001b[1;31mKeyboardInterrupt\u001b[0m: "
          ]
        }
      ],
      "source": [
        "import boto3\n",
        "import json\n",
        "from random import uniform\n",
        "import time\n",
        "from datetime import datetime\n",
        "\n",
        "#Add the Acess Key\n",
        "cliente = boto3.client('kinesis',aws_access_key_id='', aws_secret_access_key='',\n",
        "                       region_name='us-east-1')\n",
        "\n",
        "id = 0\n",
        "while True:\n",
        "  dados = uniform(20,25)\n",
        "  id += 1;\n",
        "  registro = {'idtemp' : str(id), 'data' : str(dados), 'type': 'temperature', 'timestamp' : str(datetime.now()) }\n",
        "  cliente.put_record(StreamName='windfarm', Data = json.dumps(registro), PartitionKey='02')\n",
        "  time.sleep(3)\n",
        "  print(registro)"
      ]
    },
    {
      "cell_type": "code",
      "execution_count": null,
      "metadata": {
        "id": "_DwaOHD-i9iT"
      },
      "outputs": [],
      "source": []
    }
  ],
  "metadata": {
    "colab": {
      "provenance": []
    },
    "kernelspec": {
      "display_name": "Python 3",
      "name": "python3"
    },
    "language_info": {
      "codemirror_mode": {
        "name": "ipython",
        "version": 3
      },
      "file_extension": ".py",
      "mimetype": "text/x-python",
      "name": "python",
      "nbconvert_exporter": "python",
      "pygments_lexer": "ipython3",
      "version": "3.11.5"
    }
  },
  "nbformat": 4,
  "nbformat_minor": 0
}
